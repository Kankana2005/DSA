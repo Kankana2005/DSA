{
 "cells": [
  {
   "cell_type": "markdown",
   "id": "8768d6a5",
   "metadata": {},
   "source": [
    "# Recusrsion\n"
   ]
  },
  {
   "cell_type": "markdown",
   "id": "e5fef9ac",
   "metadata": {},
   "source": [
    "Print \"hello\" 4 times"
   ]
  },
  {
   "cell_type": "code",
   "execution_count": null,
   "id": "76549630",
   "metadata": {},
   "outputs": [],
   "source": [
    "count = 0\n",
    "def func():\n",
    "    if count == 4:\n",
    "        return\n",
    "    print(\"Hello\")\n",
    "    count += 1\n",
    "    func()\n",
    "func()    "
   ]
  }
 ],
 "metadata": {
  "kernelspec": {
   "display_name": "Python 3",
   "language": "python",
   "name": "python3"
  },
  "language_info": {
   "name": "python",
   "version": "3.11.4"
  }
 },
 "nbformat": 4,
 "nbformat_minor": 5
}
