{
 "cells": [
  {
   "cell_type": "markdown",
   "id": "cd0e484b",
   "metadata": {},
   "source": [
    "Hashing"
   ]
  },
  {
   "cell_type": "code",
   "execution_count": null,
   "id": "1ab4334d",
   "metadata": {},
   "outputs": [],
   "source": [
    "n = [5,3,2,2,1,5,5,7,5,10]\n",
    "m = [10,111,1,9,5,67,2]\n",
    "for num in m :\n",
    "    count = 0\n",
    "    for x in n:\n",
    "        if x == num:\n",
    "            count+=1\n",
    "    print(num,\"appears\",count,\"times\")            \n",
    "            "
   ]
  },
  {
   "cell_type": "code",
   "execution_count": null,
   "id": "26313a33",
   "metadata": {},
   "outputs": [],
   "source": [
    "#Optimal solution\n",
    "n = [5,3,2,2,1,5,5,7,5,10]\n",
    "m = [10,111,1,9,5,67,2]\n",
    "hash_list = [0]*11\n",
    "for num in n:\n",
    "    hash_list[num]+=1\n",
    "for num in m:\n",
    "    if num < 1 or num > 10:\n",
    "        print(0)\n",
    "    else:\n",
    "        print(hash_list[num])    \n",
    "            "
   ]
  },
  {
   "cell_type": "markdown",
   "id": "d767c545",
   "metadata": {},
   "source": [
    "Character Hashing\n"
   ]
  },
  {
   "cell_type": "code",
   "execution_count": null,
   "id": "5b8346a7",
   "metadata": {},
   "outputs": [],
   "source": [
    "s = \"azyxyyzaaa\"\n",
    "q = ['d','a','y','z']\n",
    "hash_list = [0]*26\n",
    "for char in s:\n",
    "    ascii_val = ord(char)\n",
    "    index = ascii_val - 97\n",
    "    hash_list[index]+=1\n",
    "for char in q:\n",
    "    ascii_value = ord(char)\n",
    "    index = ascii_value-97\n",
    "    print(hash_list[index])    "
   ]
  }
 ],
 "metadata": {
  "kernelspec": {
   "display_name": "Python 3",
   "language": "python",
   "name": "python3"
  },
  "language_info": {
   "codemirror_mode": {
    "name": "ipython",
    "version": 3
   },
   "file_extension": ".py",
   "mimetype": "text/x-python",
   "name": "python",
   "nbconvert_exporter": "python",
   "pygments_lexer": "ipython3",
   "version": "3.11.4"
  }
 },
 "nbformat": 4,
 "nbformat_minor": 5
}
