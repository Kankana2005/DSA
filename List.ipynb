{
 "cells": [
  {
   "cell_type": "markdown",
   "id": "3591f289",
   "metadata": {},
   "source": [
    "## List"
   ]
  },
  {
   "cell_type": "markdown",
   "id": "3aef50cd",
   "metadata": {},
   "source": [
    "### Find Largest element in an array\n"
   ]
  },
  {
   "cell_type": "code",
   "execution_count": 9,
   "id": "b0ca4d57",
   "metadata": {},
   "outputs": [
    {
     "name": "stdout",
     "output_type": "stream",
     "text": [
      "99\n"
     ]
    }
   ],
   "source": [
    "nums = [55,32,-97,99,3,67]\n",
    "largest = nums[0]\n",
    "for i in range (0,len(nums)):\n",
    "    largest = max(largest,nums[i])\n",
    " \n",
    "\n",
    "print(largest)        "
   ]
  },
  {
   "cell_type": "code",
   "execution_count": 8,
   "id": "54a856f0",
   "metadata": {},
   "outputs": [
    {
     "name": "stdout",
     "output_type": "stream",
     "text": [
      "99\n"
     ]
    }
   ],
   "source": [
    "#alternate\n",
    "nums = [55,32,-97,99,3,67]\n",
    "largest = nums[0]\n",
    "for i in range (0,len(nums)):\n",
    "   if largest < nums[i]:\n",
    "       largest = nums[i]\n",
    "\n",
    "print(largest)"
   ]
  },
  {
   "cell_type": "code",
   "execution_count": 10,
   "id": "d893ee05",
   "metadata": {},
   "outputs": [
    {
     "name": "stdout",
     "output_type": "stream",
     "text": [
      "99\n"
     ]
    }
   ],
   "source": [
    "#method 2:\n",
    "nums = [55,32,-97,99,3,67]\n",
    "largest = float(\"-inf\")\n",
    "for i in range (0,len(nums)):\n",
    "   if largest < nums[i]:\n",
    "       largest = nums[i]\n",
    "\n",
    "print(largest)"
   ]
  }
 ],
 "metadata": {
  "kernelspec": {
   "display_name": "Python 3",
   "language": "python",
   "name": "python3"
  },
  "language_info": {
   "codemirror_mode": {
    "name": "ipython",
    "version": 3
   },
   "file_extension": ".py",
   "mimetype": "text/x-python",
   "name": "python",
   "nbconvert_exporter": "python",
   "pygments_lexer": "ipython3",
   "version": "3.11.4"
  }
 },
 "nbformat": 4,
 "nbformat_minor": 5
}
