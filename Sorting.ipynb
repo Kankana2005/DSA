{
 "cells": [
  {
   "cell_type": "markdown",
   "id": "58ce5801",
   "metadata": {},
   "source": [
    "### Selection Sort"
   ]
  },
  {
   "cell_type": "code",
   "execution_count": null,
   "id": "5223ed83",
   "metadata": {},
   "outputs": [
    {
     "name": "stdout",
     "output_type": "stream",
     "text": [
      "[1, 2, 3, 4, 5, 6, 7, 8, 11, 12]\n"
     ]
    }
   ],
   "source": [
    "#Asceding order\n",
    "def sel_sort(nums):\n",
    "    n = len(nums)\n",
    "    for i in range(0,n):\n",
    "        min_id = i\n",
    "        for j in range(i+1,n):\n",
    "            if nums[j] < nums[min_id]:\n",
    "                min_id = j\n",
    "        nums[i],nums[min_id] = nums[min_id],nums[i]\n",
    "nums = [1,5,4,2,3,7,6,8,12,11]\n",
    "sel_sort(nums)\n",
    "print(nums)                "
   ]
  },
  {
   "cell_type": "code",
   "execution_count": 4,
   "id": "33adee1e",
   "metadata": {},
   "outputs": [
    {
     "name": "stdout",
     "output_type": "stream",
     "text": [
      "[12, 11, 8, 7, 6, 5, 4, 3, 2, 1]\n"
     ]
    }
   ],
   "source": [
    "#descending order\n",
    "def sel_sort(nums):\n",
    "    n = len(nums)\n",
    "    for i in range(0,n):\n",
    "        min_id = i\n",
    "        for j in range(i+1,n):\n",
    "            if nums[j] > nums[min_id]:\n",
    "                min_id = j\n",
    "        nums[i],nums[min_id] = nums[min_id],nums[i]\n",
    "nums = [1,5,4,2,3,7,6,8,12,11]\n",
    "sel_sort(nums)\n",
    "print(nums)                "
   ]
  },
  {
   "cell_type": "markdown",
   "id": "b6970fc0",
   "metadata": {},
   "source": [
    "### Bubble sort"
   ]
  },
  {
   "cell_type": "code",
   "execution_count": 5,
   "id": "34e75209",
   "metadata": {},
   "outputs": [
    {
     "name": "stdout",
     "output_type": "stream",
     "text": [
      "[1, 2, 3, 4, 5, 6, 7, 8, 11, 12]\n"
     ]
    }
   ],
   "source": [
    "nums = [1,5,4,2,3,7,6,8,12,11]\n",
    "n = len(nums)\n",
    "for i in range(n-2,-1,-1):\n",
    "    for j in range (0,i+1):\n",
    "        if nums[j] > nums[j+1]:\n",
    "            nums[j],nums[j+1] = nums[j+1],nums[j]\n",
    "print(nums)            \n",
    "            "
   ]
  },
  {
   "cell_type": "code",
   "execution_count": 10,
   "id": "9d980606",
   "metadata": {},
   "outputs": [
    {
     "name": "stdout",
     "output_type": "stream",
     "text": [
      "The list is already sorted.\n",
      "Sorted list: [1, 2, 3, 4, 5, 6, 9, 78]\n"
     ]
    }
   ],
   "source": [
    "nums = [1, 2, 3, 4, 5, 6, 78, 9]\n",
    "n = len(nums)\n",
    "\n",
    "for i in range(n - 2, -1, -1):\n",
    "    is_swap = False\n",
    "    for j in range(0, i + 1):\n",
    "        if nums[j] > nums[j + 1]:\n",
    "            nums[j], nums[j + 1] = nums[j + 1], nums[j]\n",
    "            is_swap = True\n",
    "    if not is_swap:\n",
    "        print(\"The list is already sorted.\")\n",
    "        break\n",
    "\n",
    "print(\"Sorted list:\", nums)\n"
   ]
  }
 ],
 "metadata": {
  "kernelspec": {
   "display_name": "Python 3",
   "language": "python",
   "name": "python3"
  },
  "language_info": {
   "codemirror_mode": {
    "name": "ipython",
    "version": 3
   },
   "file_extension": ".py",
   "mimetype": "text/x-python",
   "name": "python",
   "nbconvert_exporter": "python",
   "pygments_lexer": "ipython3",
   "version": "3.11.4"
  }
 },
 "nbformat": 4,
 "nbformat_minor": 5
}
