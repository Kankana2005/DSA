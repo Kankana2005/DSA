{
 "cells": [
  {
   "cell_type": "markdown",
   "id": "58ce5801",
   "metadata": {},
   "source": [
    "### Selection Sort"
   ]
  },
  {
   "cell_type": "code",
   "execution_count": 5,
   "id": "5223ed83",
   "metadata": {},
   "outputs": [
    {
     "name": "stdout",
     "output_type": "stream",
     "text": [
      "[1, 2, 3, 4, 5, 6, 7, 8, 11, 12]\n"
     ]
    }
   ],
   "source": [
    "#Asceding order\n",
    "def sel_sort(nums):\n",
    "    n = len(nums)\n",
    "    for i in range(0,n):\n",
    "        min_id = i\n",
    "        for j in range(i+1,n):\n",
    "            if nums[j] < nums[min_id]:\n",
    "                min_id = j\n",
    "        nums[i],nums[min_id] = nums[min_id],nums[i]\n",
    "nums = [1,5,4,2,3,7,6,8,12,11]\n",
    "sel_sort(nums)\n",
    "print(nums)                "
   ]
  },
  {
   "cell_type": "code",
   "execution_count": 6,
   "id": "33adee1e",
   "metadata": {},
   "outputs": [
    {
     "name": "stdout",
     "output_type": "stream",
     "text": [
      "[12, 11, 8, 7, 6, 5, 4, 3, 2, 1]\n"
     ]
    }
   ],
   "source": [
    "#descending order\n",
    "def sel_sort(nums):\n",
    "    n = len(nums)\n",
    "    for i in range(0,n):\n",
    "        min_id = i\n",
    "        for j in range(i+1,n):\n",
    "            if nums[j] > nums[min_id]:\n",
    "                min_id = j\n",
    "        nums[i],nums[min_id] = nums[min_id],nums[i]\n",
    "nums = [1,5,4,2,3,7,6,8,12,11]\n",
    "sel_sort(nums)\n",
    "print(nums)                "
   ]
  },
  {
   "cell_type": "markdown",
   "id": "b6970fc0",
   "metadata": {},
   "source": [
    "### Bubble sort"
   ]
  },
  {
   "cell_type": "code",
   "execution_count": 7,
   "id": "34e75209",
   "metadata": {},
   "outputs": [
    {
     "name": "stdout",
     "output_type": "stream",
     "text": [
      "[1, 2, 3, 4, 5, 6, 7, 8, 11, 12]\n"
     ]
    }
   ],
   "source": [
    "nums = [1,5,4,2,3,7,6,8,12,11]\n",
    "n = len(nums)\n",
    "for i in range(n-2,-1,-1):\n",
    "    for j in range (0,i+1):\n",
    "        if nums[j] > nums[j+1]:\n",
    "            nums[j],nums[j+1] = nums[j+1],nums[j]\n",
    "print(nums)            \n",
    "            "
   ]
  },
  {
   "cell_type": "code",
   "execution_count": 8,
   "id": "9d980606",
   "metadata": {},
   "outputs": [
    {
     "name": "stdout",
     "output_type": "stream",
     "text": [
      "The list is already sorted.\n",
      "Sorted list: [1, 2, 3, 4, 5, 6, 9, 78]\n"
     ]
    }
   ],
   "source": [
    "nums = [1, 2, 3, 4, 5, 6, 78, 9]\n",
    "n = len(nums)\n",
    "\n",
    "for i in range(n - 2, -1, -1):\n",
    "    is_swap = False\n",
    "    for j in range(0, i + 1):\n",
    "        if nums[j] > nums[j + 1]:\n",
    "            nums[j], nums[j + 1] = nums[j + 1], nums[j]\n",
    "            is_swap = True\n",
    "    if not is_swap:\n",
    "        print(\"The list is already sorted.\")\n",
    "        break\n",
    "\n",
    "print(\"Sorted list:\", nums)\n"
   ]
  },
  {
   "cell_type": "markdown",
   "id": "62fa0a1c",
   "metadata": {},
   "source": [
    "### Insertion sort"
   ]
  },
  {
   "cell_type": "code",
   "execution_count": 9,
   "id": "dd499d77",
   "metadata": {},
   "outputs": [
    {
     "name": "stdout",
     "output_type": "stream",
     "text": [
      "[1, 3, 4, 5, 6, 7, 8, 9, 10]\n"
     ]
    }
   ],
   "source": [
    "nums = [3,5,6,4,8,9,10,7,1]\n",
    "n = len(nums)\n",
    "for i in range(1,n):\n",
    "    key = nums[i]\n",
    "    j = i-1\n",
    "    while j>=0 and nums[j] >key:\n",
    "        nums[j+1] = nums[j]\n",
    "        j-=1\n",
    "    nums[j+1] = key\n",
    "print(nums)    "
   ]
  },
  {
   "cell_type": "markdown",
   "id": "5e87ad79",
   "metadata": {},
   "source": [
    "### Merge Sort"
   ]
  },
  {
   "cell_type": "code",
   "execution_count": 13,
   "id": "91039879",
   "metadata": {},
   "outputs": [
    {
     "data": {
      "text/plain": [
       "[1, 1, 1, 2, 3, 3, 4, 4, 5, 6, 7]"
      ]
     },
     "execution_count": 13,
     "metadata": {},
     "output_type": "execute_result"
    }
   ],
   "source": [
    "# Merge two sorted array\n",
    "def merge_arr(left,right):\n",
    "    res = []\n",
    "    i,j= 0,0\n",
    "    n,m=len(left),len(right)\n",
    "    while i<n and j<m:\n",
    "        if left[i] <= right[j]:\n",
    "            res.append(left[i])\n",
    "            i+=1\n",
    "        else:\n",
    "            res.append(right[j])\n",
    "            j+=1\n",
    "    if i<n:\n",
    "        while i<n:\n",
    "            res.append(left[i])\n",
    "            i+=1\n",
    "    if j<m:\n",
    "        while j<m:\n",
    "            res.append(right[j])\n",
    "            j+=1\n",
    "    return res\n",
    "\n",
    "left = [1,2,3,4]\n",
    "right = [1,1,3,4,5,6,7]\n",
    "merge_arr(left,right)  \n",
    "\n",
    "                          "
   ]
  },
  {
   "cell_type": "code",
   "execution_count": 15,
   "id": "12be3595",
   "metadata": {},
   "outputs": [
    {
     "data": {
      "text/plain": [
       "[1, 2, 2, 3, 4, 4, 5, 6]"
      ]
     },
     "execution_count": 15,
     "metadata": {},
     "output_type": "execute_result"
    }
   ],
   "source": [
    "def merge_arr(left,right):\n",
    "    res = []\n",
    "    i,j= 0,0\n",
    "    n,m=len(left),len(right)\n",
    "    while i<n and j<m:\n",
    "        if left[i] <= right[j]:\n",
    "            res.append(left[i])\n",
    "            i+=1\n",
    "        else:\n",
    "            res.append(right[j])\n",
    "            j+=1\n",
    "    if i<n:\n",
    "        while i<n:\n",
    "            res.append(left[i])\n",
    "            i+=1\n",
    "    if j<m:\n",
    "        while j<m:\n",
    "            res.append(right[j])\n",
    "            j+=1\n",
    "    return res\n",
    "def merge_sort(arr):\n",
    "    if len(arr)<=1:\n",
    "        return arr\n",
    "    mid = len(arr)//2\n",
    "    left_arr = arr[ : mid]\n",
    "    right_arr = arr[mid: ]\n",
    "    left = merge_sort(left_arr)\n",
    "    right = merge_sort(right_arr)\n",
    "    return merge_arr(left,right)\n",
    "nums = [3,1,2,4,5,2,6,4]\n",
    "merge_sort(nums)"
   ]
  },
  {
   "cell_type": "markdown",
   "id": "76c314f2",
   "metadata": {},
   "source": [
    "### Quick Sort\n"
   ]
  },
  {
   "cell_type": "code",
   "execution_count": 18,
   "id": "25d876b6",
   "metadata": {},
   "outputs": [
    {
     "name": "stdout",
     "output_type": "stream",
     "text": [
      "[1, 2, 3, 4, 6, 7, 8]\n"
     ]
    }
   ],
   "source": [
    "def partition(nums,low,high):\n",
    "    pivot = nums[low]\n",
    "    i= low\n",
    "    j= high\n",
    "    while i<j:\n",
    "        while nums[i] <= pivot and i<=high-1:\n",
    "            i+=1\n",
    "        while nums[j] > pivot and j>= low+1:\n",
    "            j-=1\n",
    "        if i<j:\n",
    "            nums[i],nums[j] = nums[j],nums[i]\n",
    "    nums[low],nums[j] =  nums[j],nums[low]\n",
    "    return j\n",
    "\n",
    "def quick_sort(nums,low,high):\n",
    "    if low<high:\n",
    "        p_ind = partition(nums,low,high)\n",
    "        quick_sort(nums , low,p_ind-1)\n",
    "        quick_sort(nums,p_ind+1,high)\n",
    "        \n",
    "nums = [1,3,2,4,7,6,8]\n",
    "quick_sort(nums,0,len(nums)-1)\n",
    "print(nums)        "
   ]
  }
 ],
 "metadata": {
  "kernelspec": {
   "display_name": "Python 3",
   "language": "python",
   "name": "python3"
  },
  "language_info": {
   "codemirror_mode": {
    "name": "ipython",
    "version": 3
   },
   "file_extension": ".py",
   "mimetype": "text/x-python",
   "name": "python",
   "nbconvert_exporter": "python",
   "pygments_lexer": "ipython3",
   "version": "3.11.4"
  }
 },
 "nbformat": 4,
 "nbformat_minor": 5
}
