{
 "cells": [
  {
   "cell_type": "markdown",
   "id": "3591f289",
   "metadata": {},
   "source": [
    "## List/Arrays"
   ]
  },
  {
   "cell_type": "markdown",
   "id": "3aef50cd",
   "metadata": {},
   "source": [
    "### Find Largest element in an array\n"
   ]
  },
  {
   "cell_type": "code",
   "execution_count": 9,
   "id": "b0ca4d57",
   "metadata": {},
   "outputs": [
    {
     "name": "stdout",
     "output_type": "stream",
     "text": [
      "99\n"
     ]
    }
   ],
   "source": [
    "nums = [55,32,-97,99,3,67]\n",
    "largest = nums[0]\n",
    "for i in range (0,len(nums)):\n",
    "    largest = max(largest,nums[i])\n",
    " \n",
    "\n",
    "print(largest)        "
   ]
  },
  {
   "cell_type": "code",
   "execution_count": 8,
   "id": "54a856f0",
   "metadata": {},
   "outputs": [
    {
     "name": "stdout",
     "output_type": "stream",
     "text": [
      "99\n"
     ]
    }
   ],
   "source": [
    "#alternate\n",
    "nums = [55,32,-97,99,3,67]\n",
    "largest = nums[0]\n",
    "for i in range (0,len(nums)):\n",
    "   if largest < nums[i]:\n",
    "       largest = nums[i]\n",
    "\n",
    "print(largest)"
   ]
  },
  {
   "cell_type": "code",
   "execution_count": 10,
   "id": "d893ee05",
   "metadata": {},
   "outputs": [
    {
     "name": "stdout",
     "output_type": "stream",
     "text": [
      "99\n"
     ]
    }
   ],
   "source": [
    "#method 2:\n",
    "nums = [55,32,-97,99,3,67]\n",
    "largest = float(\"-inf\")\n",
    "for i in range (0,len(nums)):\n",
    "   if largest < nums[i]:\n",
    "       largest = nums[i]\n",
    "\n",
    "print(largest)"
   ]
  },
  {
   "cell_type": "markdown",
   "id": "b509d16a",
   "metadata": {},
   "source": [
    "### Find the second largest element in an array\n"
   ]
  },
  {
   "cell_type": "code",
   "execution_count": null,
   "id": "0550acc4",
   "metadata": {},
   "outputs": [
    {
     "name": "stdout",
     "output_type": "stream",
     "text": [
      "The second largest element is: 88\n"
     ]
    }
   ],
   "source": [
    "#Brute solution\n",
    "nums = [55,32,97,55,45,32,88,21]\n",
    "nums.sort()\n",
    "print(\"The second largest element is:\",nums[-2])\n",
    "\n",
    "    "
   ]
  },
  {
   "cell_type": "code",
   "execution_count": null,
   "id": "f8f58ef6",
   "metadata": {},
   "outputs": [
    {
     "name": "stdout",
     "output_type": "stream",
     "text": [
      "88\n"
     ]
    }
   ],
   "source": [
    "#Better solution\n",
    "nums = [55,32,97,55,45,32,88,21]\n",
    "largest = float(\"-inf\")\n",
    "sec_largest = float(\"-inf\")\n",
    "for i in range (0,len(nums)):\n",
    "   if largest < nums[i]:\n",
    "       largest = nums[i]\n",
    "for i in range (0,len(nums)):\n",
    "        if nums[i] > sec_largest  and nums[i] != largest:\n",
    "            sec_largest = nums[i]\n",
    "print(sec_largest)               \n",
    "       \n",
    "\n",
    "    "
   ]
  },
  {
   "cell_type": "code",
   "execution_count": 17,
   "id": "60d37083",
   "metadata": {},
   "outputs": [
    {
     "name": "stdout",
     "output_type": "stream",
     "text": [
      "88\n"
     ]
    }
   ],
   "source": [
    "#Optimal solution\n",
    "nums = [55,32,97,55,45,32,88,21]\n",
    "largest = float(\"-inf\")\n",
    "sec_largest = float(\"-inf\")\n",
    "for i in range (0,len(nums)):\n",
    "    if nums[i] >largest:\n",
    "        sec_largest = largest\n",
    "        largest = nums[i]\n",
    "    elif nums[i] > sec_largest and nums[i] != largest:\n",
    "        sec_largest = nums[i]\n",
    "print(sec_largest)          "
   ]
  },
  {
   "cell_type": "markdown",
   "id": "28a0aa87",
   "metadata": {},
   "source": [
    "### Check if an array is sorted or not"
   ]
  },
  {
   "cell_type": "code",
   "execution_count": 21,
   "id": "b44e2004",
   "metadata": {},
   "outputs": [
    {
     "data": {
      "text/plain": [
       "True"
      ]
     },
     "execution_count": 21,
     "metadata": {},
     "output_type": "execute_result"
    }
   ],
   "source": [
    "\n",
    "def check_array(nums):\n",
    "    n= len(nums)\n",
    "    for i in range (0,n-1):\n",
    "        if nums[i] > nums[i+1]:\n",
    "           return False\n",
    "    return True\n",
    "nums1 = [3,5,6,8,9,10,20]\n",
    "nums2 = [1,2,5,8,3,10,14,4]\n",
    "check_array(nums1)    \n",
    "        "
   ]
  },
  {
   "cell_type": "markdown",
   "id": "98ac7177",
   "metadata": {},
   "source": [
    "### Remove Duplicate from a sorted array"
   ]
  },
  {
   "cell_type": "code",
   "execution_count": 2,
   "id": "a45f9aab",
   "metadata": {},
   "outputs": [
    {
     "name": "stdout",
     "output_type": "stream",
     "text": [
      "7\n",
      "[1, 2, 3, 4, 7, 9, 10, 7, 9, 9, 9, 10]\n"
     ]
    }
   ],
   "source": [
    "#Brute solution \n",
    "nums = [1,1,1,2,3,4,4,7,9,9,9,10]\n",
    "freq_map = {}\n",
    "n = len(nums)\n",
    "for i in range (0,n):\n",
    "    freq_map[nums[i]] = 0\n",
    "j = 0\n",
    "for k in freq_map:\n",
    "    nums[j] = k\n",
    "    j+=1\n",
    "print(j)  \n",
    "print(nums)      "
   ]
  },
  {
   "cell_type": "code",
   "execution_count": 4,
   "id": "44153c25",
   "metadata": {},
   "outputs": [
    {
     "name": "stdout",
     "output_type": "stream",
     "text": [
      "[1, 2, 3, 4, 7, 9, 10, 1, 1, 9, 9, 4]\n"
     ]
    },
    {
     "data": {
      "text/plain": [
       "7"
      ]
     },
     "execution_count": 4,
     "metadata": {},
     "output_type": "execute_result"
    }
   ],
   "source": [
    "#Optimal solution\n",
    "def remove_dup(nums):\n",
    "    if len(nums) == 1:\n",
    "        return 1\n",
    "    i = 0\n",
    "    j = i+1\n",
    "    while j<n:\n",
    "        if nums[i] != nums[j]:\n",
    "            i+=1\n",
    "            nums[i],nums[j] = nums[j],nums[i]\n",
    "        j+=1\n",
    "    print(nums)    \n",
    "    return i+1\n",
    "nums = [1,1,1,2,3,4,4,7,9,9,9,10]\n",
    "remove_dup(nums)\n",
    "        "
   ]
  },
  {
   "cell_type": "markdown",
   "id": "eda73f88",
   "metadata": {},
   "source": [
    "### Right rotate an array by one place"
   ]
  },
  {
   "cell_type": "code",
   "execution_count": 3,
   "id": "d73cb32e",
   "metadata": {},
   "outputs": [
    {
     "name": "stdout",
     "output_type": "stream",
     "text": [
      "[7, 5, -2, 3, 9, 0, 6, 10]\n"
     ]
    }
   ],
   "source": [
    "nums = [5,-2,3,9,0,6,10,7]\n",
    "n = len(nums)\n",
    "nums[:] = [nums[-1]] + nums[0:n-1]\n",
    "print(nums)"
   ]
  },
  {
   "cell_type": "code",
   "execution_count": 4,
   "id": "e1f3808a",
   "metadata": {},
   "outputs": [
    {
     "name": "stdout",
     "output_type": "stream",
     "text": [
      "[7, 5, -2, 3, 9, 0, 6, 10]\n"
     ]
    }
   ],
   "source": [
    "#alternate method\n",
    "nums = [5,-2,3,9,0,6,10,7]\n",
    "n = len(nums)\n",
    "nums[:] = [nums[n-1]] + nums[0:n-1]\n",
    "print(nums)"
   ]
  },
  {
   "cell_type": "code",
   "execution_count": 5,
   "id": "ab05042c",
   "metadata": {},
   "outputs": [
    {
     "name": "stdout",
     "output_type": "stream",
     "text": [
      "[7, 5, -2, 3, 9, 0, 6, 10]\n"
     ]
    }
   ],
   "source": [
    "#without using slicing\n",
    "nums = [5,-2,3,9,0,6,10,7]\n",
    "n = len(nums)\n",
    "temp = nums[n-1]\n",
    "for i in range(n-2,-1,-1):\n",
    "    nums[i+1] = nums[i]\n",
    "nums[0] = temp\n",
    "print(nums)    "
   ]
  },
  {
   "cell_type": "markdown",
   "id": "36780d5f",
   "metadata": {},
   "source": [
    "### Right rotate array by k places"
   ]
  }
 ],
 "metadata": {
  "kernelspec": {
   "display_name": "Python 3",
   "language": "python",
   "name": "python3"
  },
  "language_info": {
   "codemirror_mode": {
    "name": "ipython",
    "version": 3
   },
   "file_extension": ".py",
   "mimetype": "text/x-python",
   "name": "python",
   "nbconvert_exporter": "python",
   "pygments_lexer": "ipython3",
   "version": "3.11.4"
  }
 },
 "nbformat": 4,
 "nbformat_minor": 5
}
