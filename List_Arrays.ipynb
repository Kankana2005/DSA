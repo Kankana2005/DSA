{
 "cells": [
  {
   "cell_type": "markdown",
   "id": "3591f289",
   "metadata": {},
   "source": [
    "## List/Arrays"
   ]
  },
  {
   "cell_type": "markdown",
   "id": "3aef50cd",
   "metadata": {},
   "source": [
    "### Find Largest element in an array\n"
   ]
  },
  {
   "cell_type": "code",
   "execution_count": 9,
   "id": "b0ca4d57",
   "metadata": {},
   "outputs": [
    {
     "name": "stdout",
     "output_type": "stream",
     "text": [
      "99\n"
     ]
    }
   ],
   "source": [
    "nums = [55,32,-97,99,3,67]\n",
    "largest = nums[0]\n",
    "for i in range (0,len(nums)):\n",
    "    largest = max(largest,nums[i])\n",
    " \n",
    "\n",
    "print(largest)        "
   ]
  },
  {
   "cell_type": "code",
   "execution_count": 8,
   "id": "54a856f0",
   "metadata": {},
   "outputs": [
    {
     "name": "stdout",
     "output_type": "stream",
     "text": [
      "99\n"
     ]
    }
   ],
   "source": [
    "#alternate\n",
    "nums = [55,32,-97,99,3,67]\n",
    "largest = nums[0]\n",
    "for i in range (0,len(nums)):\n",
    "   if largest < nums[i]:\n",
    "       largest = nums[i]\n",
    "\n",
    "print(largest)"
   ]
  },
  {
   "cell_type": "code",
   "execution_count": 10,
   "id": "d893ee05",
   "metadata": {},
   "outputs": [
    {
     "name": "stdout",
     "output_type": "stream",
     "text": [
      "99\n"
     ]
    }
   ],
   "source": [
    "#method 2:\n",
    "nums = [55,32,-97,99,3,67]\n",
    "largest = float(\"-inf\")\n",
    "for i in range (0,len(nums)):\n",
    "   if largest < nums[i]:\n",
    "       largest = nums[i]\n",
    "\n",
    "print(largest)"
   ]
  },
  {
   "cell_type": "markdown",
   "id": "b509d16a",
   "metadata": {},
   "source": [
    "### Find the second largest element in an array\n"
   ]
  },
  {
   "cell_type": "code",
   "execution_count": null,
   "id": "0550acc4",
   "metadata": {},
   "outputs": [
    {
     "name": "stdout",
     "output_type": "stream",
     "text": [
      "The second largest element is: 88\n"
     ]
    }
   ],
   "source": [
    "#Brute solution\n",
    "nums = [55,32,97,55,45,32,88,21]\n",
    "nums.sort()\n",
    "print(\"The second largest element is:\",nums[-2])\n",
    "\n",
    "    "
   ]
  },
  {
   "cell_type": "code",
   "execution_count": null,
   "id": "f8f58ef6",
   "metadata": {},
   "outputs": [
    {
     "name": "stdout",
     "output_type": "stream",
     "text": [
      "88\n"
     ]
    }
   ],
   "source": [
    "#Better solution\n",
    "nums = [55,32,97,55,45,32,88,21]\n",
    "largest = float(\"-inf\")\n",
    "sec_largest = float(\"-inf\")\n",
    "for i in range (0,len(nums)):\n",
    "   if largest < nums[i]:\n",
    "       largest = nums[i]\n",
    "for i in range (0,len(nums)):\n",
    "        if nums[i] > sec_largest  and nums[i] != largest:\n",
    "            sec_largest = nums[i]\n",
    "print(sec_largest)               \n",
    "       \n",
    "\n",
    "    "
   ]
  },
  {
   "cell_type": "code",
   "execution_count": 17,
   "id": "60d37083",
   "metadata": {},
   "outputs": [
    {
     "name": "stdout",
     "output_type": "stream",
     "text": [
      "88\n"
     ]
    }
   ],
   "source": [
    "#Optimal solution\n",
    "nums = [55,32,97,55,45,32,88,21]\n",
    "largest = float(\"-inf\")\n",
    "sec_largest = float(\"-inf\")\n",
    "for i in range (0,len(nums)):\n",
    "    if nums[i] >largest:\n",
    "        sec_largest = largest\n",
    "        largest = nums[i]\n",
    "    elif nums[i] > sec_largest and nums[i] != largest:\n",
    "        sec_largest = nums[i]\n",
    "print(sec_largest)          "
   ]
  },
  {
   "cell_type": "markdown",
   "id": "28a0aa87",
   "metadata": {},
   "source": [
    "### Check if an array is sorted or not"
   ]
  },
  {
   "cell_type": "code",
   "execution_count": 21,
   "id": "b44e2004",
   "metadata": {},
   "outputs": [
    {
     "data": {
      "text/plain": [
       "True"
      ]
     },
     "execution_count": 21,
     "metadata": {},
     "output_type": "execute_result"
    }
   ],
   "source": [
    "\n",
    "def check_array(nums):\n",
    "    n= len(nums)\n",
    "    for i in range (0,n-1):\n",
    "        if nums[i] > nums[i+1]:\n",
    "           return False\n",
    "    return True\n",
    "nums1 = [3,5,6,8,9,10,20]\n",
    "nums2 = [1,2,5,8,3,10,14,4]\n",
    "check_array(nums1)    \n",
    "        "
   ]
  },
  {
   "cell_type": "markdown",
   "id": "98ac7177",
   "metadata": {},
   "source": [
    "### Remove Duplicate from a sorted array"
   ]
  },
  {
   "cell_type": "code",
   "execution_count": 2,
   "id": "a45f9aab",
   "metadata": {},
   "outputs": [
    {
     "name": "stdout",
     "output_type": "stream",
     "text": [
      "7\n",
      "[1, 2, 3, 4, 7, 9, 10, 7, 9, 9, 9, 10]\n"
     ]
    }
   ],
   "source": [
    "#Brute solution \n",
    "nums = [1,1,1,2,3,4,4,7,9,9,9,10]\n",
    "freq_map = {}\n",
    "n = len(nums)\n",
    "for i in range (0,n):\n",
    "    freq_map[nums[i]] = 0\n",
    "j = 0\n",
    "for k in freq_map:\n",
    "    nums[j] = k\n",
    "    j+=1\n",
    "print(j)  \n",
    "print(nums)      "
   ]
  },
  {
   "cell_type": "code",
   "execution_count": 4,
   "id": "44153c25",
   "metadata": {},
   "outputs": [
    {
     "name": "stdout",
     "output_type": "stream",
     "text": [
      "[1, 2, 3, 4, 7, 9, 10, 1, 1, 9, 9, 4]\n"
     ]
    },
    {
     "data": {
      "text/plain": [
       "7"
      ]
     },
     "execution_count": 4,
     "metadata": {},
     "output_type": "execute_result"
    }
   ],
   "source": [
    "#Optimal solution\n",
    "def remove_dup(nums):\n",
    "    if len(nums) == 1:\n",
    "        return 1\n",
    "    i = 0\n",
    "    j = i+1\n",
    "    while j<n:\n",
    "        if nums[i] != nums[j]:\n",
    "            i+=1\n",
    "            nums[i],nums[j] = nums[j],nums[i]\n",
    "        j+=1\n",
    "    print(nums)    \n",
    "    return i+1\n",
    "nums = [1,1,1,2,3,4,4,7,9,9,9,10]\n",
    "remove_dup(nums)\n",
    "        "
   ]
  },
  {
   "cell_type": "markdown",
   "id": "eda73f88",
   "metadata": {},
   "source": [
    "### Right rotate an array by one place"
   ]
  },
  {
   "cell_type": "code",
   "execution_count": 3,
   "id": "d73cb32e",
   "metadata": {},
   "outputs": [
    {
     "name": "stdout",
     "output_type": "stream",
     "text": [
      "[7, 5, -2, 3, 9, 0, 6, 10]\n"
     ]
    }
   ],
   "source": [
    "nums = [5,-2,3,9,0,6,10,7]\n",
    "n = len(nums)\n",
    "nums[:] = [nums[-1]] + nums[0:n-1]\n",
    "print(nums)"
   ]
  },
  {
   "cell_type": "code",
   "execution_count": 4,
   "id": "e1f3808a",
   "metadata": {},
   "outputs": [
    {
     "name": "stdout",
     "output_type": "stream",
     "text": [
      "[7, 5, -2, 3, 9, 0, 6, 10]\n"
     ]
    }
   ],
   "source": [
    "#alternate method\n",
    "nums = [5,-2,3,9,0,6,10,7]\n",
    "n = len(nums)\n",
    "nums[:] = [nums[n-1]] + nums[0:n-1]\n",
    "print(nums)"
   ]
  },
  {
   "cell_type": "code",
   "execution_count": 5,
   "id": "ab05042c",
   "metadata": {},
   "outputs": [
    {
     "name": "stdout",
     "output_type": "stream",
     "text": [
      "[7, 5, -2, 3, 9, 0, 6, 10]\n"
     ]
    }
   ],
   "source": [
    "#without using slicing\n",
    "nums = [5,-2,3,9,0,6,10,7]\n",
    "n = len(nums)\n",
    "temp = nums[n-1]\n",
    "for i in range(n-2,-1,-1):\n",
    "    nums[i+1] = nums[i]\n",
    "nums[0] = temp\n",
    "print(nums)    "
   ]
  },
  {
   "cell_type": "markdown",
   "id": "36780d5f",
   "metadata": {},
   "source": [
    "### Right rotate array by k places"
   ]
  },
  {
   "cell_type": "code",
   "execution_count": 2,
   "id": "d9b4a849",
   "metadata": {},
   "outputs": [
    {
     "name": "stdout",
     "output_type": "stream",
     "text": [
      "[6, 7, 2, 3, 9, 5]\n"
     ]
    }
   ],
   "source": [
    "#Brute solution\n",
    "nums = [3,9,5,6,7,2]\n",
    "n = len(nums)\n",
    "k = 3\n",
    "rotations = k % n\n",
    "for _ in range(0,rotations):\n",
    "    e = nums.pop()\n",
    "    nums.insert(0,e)\n",
    "print(nums)    \n",
    "    "
   ]
  },
  {
   "cell_type": "code",
   "execution_count": 4,
   "id": "68d61f08",
   "metadata": {},
   "outputs": [
    {
     "name": "stdout",
     "output_type": "stream",
     "text": [
      "[6, 7, 2, 10, 9, 3, 9, 5]\n"
     ]
    }
   ],
   "source": [
    "#Better solution\n",
    "nums = [3,9,5,6,7,2,10,9]\n",
    "n = len(nums)\n",
    "k = 5\n",
    "k = k % n\n",
    "nums[:] = nums[n-k:] + nums[:n-k]\n",
    "print(nums)"
   ]
  },
  {
   "cell_type": "code",
   "execution_count": 15,
   "id": "efd36059",
   "metadata": {},
   "outputs": [
    {
     "name": "stdout",
     "output_type": "stream",
     "text": [
      "[2, 10, 9, 3, 9, 5, 6, 7]\n"
     ]
    }
   ],
   "source": [
    "#optimal solution\n",
    "def rev_array(nums, left, right):\n",
    "    while left < right:\n",
    "        nums[left], nums[right] = nums[right], nums[left]\n",
    "        left += 1\n",
    "        right -= 1\n",
    "\n",
    "def rotate_array(nums, k):\n",
    "    n = len(nums)\n",
    "    k = k % n  # handle k > n\n",
    "    # Step 1: reverse last k elements\n",
    "    rev_array(nums, n - k, n - 1)\n",
    "    # Step 2: reverse first n-k elements\n",
    "    rev_array(nums, 0, n - k - 1)\n",
    "    # Step 3: reverse whole array\n",
    "    rev_array(nums, 0, n - 1)\n",
    "    return nums\n",
    "\n",
    "nums = [3, 9, 5, 6, 7, 2, 10, 9]\n",
    "k = 3\n",
    "print(rotate_array(nums, k))\n"
   ]
  },
  {
   "cell_type": "markdown",
   "id": "fb87696b",
   "metadata": {},
   "source": [
    "### Reverse an array"
   ]
  },
  {
   "cell_type": "code",
   "execution_count": 11,
   "id": "561dec5f",
   "metadata": {},
   "outputs": [
    {
     "data": {
      "text/plain": [
       "[9, 10, 2, 7, 6, 5, 9, 3]"
      ]
     },
     "execution_count": 11,
     "metadata": {},
     "output_type": "execute_result"
    }
   ],
   "source": [
    "\n",
    "def rev_array(nums,left,right):\n",
    "   \n",
    "    while left<right:\n",
    "        nums[left],nums[right] = nums[right],nums[left]\n",
    "        left+=1\n",
    "        right-=1\n",
    "    return nums    \n",
    "nums = [3,9,5,6,7,2,10,9]  \n",
    "n = len(nums)\n",
    "\n",
    "(rev_array(nums,0,n-1))      \n",
    "    "
   ]
  },
  {
   "cell_type": "markdown",
   "id": "94071633",
   "metadata": {},
   "source": [
    "### Move zeros to the end "
   ]
  },
  {
   "cell_type": "code",
   "execution_count": 1,
   "id": "eb07598d",
   "metadata": {},
   "outputs": [
    {
     "name": "stdout",
     "output_type": "stream",
     "text": [
      "[1, 2, 4, 3, 3, 5, 1, 0, 0, 0]\n"
     ]
    }
   ],
   "source": [
    "#Brute silution\n",
    "nums = [1,0,2,4,3,0,0,3,5,1]\n",
    "n = len(nums)\n",
    "temp = []\n",
    "for i in range (0,n):\n",
    "    if nums[i] != 0:\n",
    "        temp.append(nums[i])\n",
    "nz = len(temp)\n",
    "for i in range (0,nz):\n",
    "    nums[i] = temp[i]\n",
    "for i in range (nz,n):\n",
    "    nums[i] = 0\n",
    "print(nums)               "
   ]
  },
  {
   "cell_type": "code",
   "execution_count": 8,
   "id": "e6aedafa",
   "metadata": {},
   "outputs": [
    {
     "name": "stdout",
     "output_type": "stream",
     "text": [
      "[1, 2, 4, 3, 3, 5, 1, 0, 0, 0]\n"
     ]
    }
   ],
   "source": [
    "#Optimal solution\n",
    "def move_zeros(nums, i, j):\n",
    "    if len(nums) == 1:\n",
    "        return\n",
    "    \n",
    "    while i < len(nums):\n",
    "        if nums[i] == 0:\n",
    "            break\n",
    "        i += 1\n",
    "\n",
    "    j = i + 1\n",
    "    while j < len(nums):\n",
    "        if nums[j] != 0:\n",
    "            nums[i], nums[j] = nums[j], nums[i]\n",
    "            i += 1\n",
    "        j += 1\n",
    "    return nums    \n",
    "\n",
    "nums = [1, 0, 2, 4, 3, 0, 0, 3, 5, 1]\n",
    "print(move_zeros(nums, 0, 1))\n",
    "\n",
    "        \n",
    "    "
   ]
  },
  {
   "cell_type": "markdown",
   "id": "b6de0bdd",
   "metadata": {},
   "source": [
    "### Linear search"
   ]
  },
  {
   "cell_type": "code",
   "execution_count": 14,
   "id": "fb61c3d7",
   "metadata": {},
   "outputs": [
    {
     "name": "stdout",
     "output_type": "stream",
     "text": [
      "5\n"
     ]
    }
   ],
   "source": [
    "nums = [5, 3, 9, 8, 6, 4, -10, -100, 1]\n",
    "target = 4\n",
    "n = len(nums)\n",
    "for i in range(n):\n",
    "    if nums[i] == target:\n",
    "        print(i)\n",
    "        break\n",
    "else:\n",
    "    print(\"-1\")\n"
   ]
  },
  {
   "cell_type": "markdown",
   "id": "c7aa09f5",
   "metadata": {},
   "source": [
    "### Merge two sorted arrays with no duplicates"
   ]
  },
  {
   "cell_type": "code",
   "execution_count": 20,
   "id": "f6cbb8d5",
   "metadata": {},
   "outputs": [
    {
     "name": "stdout",
     "output_type": "stream",
     "text": [
      "[1, 2, 3, 4, 6, 7, 8, 9, 10]\n"
     ]
    }
   ],
   "source": [
    "nums1 = [1,1,1,2,4,6,7]\n",
    "nums2 = [1,2,3,6,7,8,9,10]\n",
    "res = []\n",
    "n = len(nums1)\n",
    "m = len(nums2)\n",
    "i = 0\n",
    "j = 0\n",
    "while i < n and j< m:\n",
    "    if nums1[i] <= nums2[j]:\n",
    "        if  len(res) == 0 or res[-1] != nums1[i]  :\n",
    "            res.append(nums1[i])\n",
    "        i+=1\n",
    "    else:\n",
    "        if  len(res) == 0 or res[-1] != nums2[j]:               \n",
    "            res.append(nums2[j])\n",
    "        j+=1\n",
    "while i< n:\n",
    "    if  len(res) == 0 or res[-1] != nums1[i]  :\n",
    "            res.append(nums1[i])\n",
    "    i+=1\n",
    "while j < m :    \n",
    "  if  len(res) == 0 or res[-1] != nums2[j]:               \n",
    "            res.append(nums2[j])\n",
    "  j+=1\n",
    "print(res)\n",
    "            \n",
    "        \n",
    "            \n",
    "        \n",
    "    "
   ]
  },
  {
   "cell_type": "markdown",
   "id": "b25d1742",
   "metadata": {},
   "source": [
    "### Find the missing Number"
   ]
  },
  {
   "cell_type": "code",
   "execution_count": null,
   "id": "c8681487",
   "metadata": {},
   "outputs": [
    {
     "name": "stdout",
     "output_type": "stream",
     "text": [
      "the missing value is 2\n"
     ]
    }
   ],
   "source": [
    "#My apprach\n",
    "nums = [1,0,3,4]\n",
    "n = len(nums)\n",
    "nums.sort()\n",
    "for i in range(0,n+1):\n",
    "    if nums[i] != i:\n",
    "        print(f\"the missing value is {i}\")\n",
    "        break\n",
    "\n",
    " "
   ]
  },
  {
   "cell_type": "code",
   "execution_count": 15,
   "id": "febeafab",
   "metadata": {},
   "outputs": [
    {
     "name": "stdout",
     "output_type": "stream",
     "text": [
      "8\n"
     ]
    }
   ],
   "source": [
    "#brute solution\n",
    "nums = [9,6,4,2,3,5,7,0,1]\n",
    "n = len(nums)\n",
    "for i in range(0,n+1):\n",
    "    if i not in nums:\n",
    "        print(i)\n"
   ]
  },
  {
   "cell_type": "code",
   "execution_count": 19,
   "id": "e065ba52",
   "metadata": {},
   "outputs": [
    {
     "name": "stdout",
     "output_type": "stream",
     "text": [
      "8\n"
     ]
    }
   ],
   "source": [
    "# Better solution\n",
    "nums = [9,6,4,2,3,5,7,0,1]\n",
    "n = len(nums)\n",
    "freq = {}\n",
    "for i in range(0,n+1):\n",
    "    freq[i] = 0\n",
    "for j in nums :\n",
    "    freq[j] = 1 \n",
    "for k,v in freq.items():\n",
    "    if v == 0:\n",
    "        print(k)\n",
    "        break     \n",
    "    \n"
   ]
  },
  {
   "cell_type": "code",
   "execution_count": 25,
   "id": "adc299cf",
   "metadata": {},
   "outputs": [
    {
     "name": "stdout",
     "output_type": "stream",
     "text": [
      "8.0\n"
     ]
    }
   ],
   "source": [
    "# Optimal solution\n",
    "nums = [9,6,4,2,3,5,7,0,1]\n",
    "n = len(nums)\n",
    "\n",
    "print(n*(n+1)/2 - sum(nums))\n"
   ]
  },
  {
   "cell_type": "markdown",
   "id": "0ebd52c7",
   "metadata": {},
   "source": [
    "### max consecutive ones"
   ]
  },
  {
   "cell_type": "code",
   "execution_count": 26,
   "id": "02f6fbdb",
   "metadata": {},
   "outputs": [
    {
     "name": "stdout",
     "output_type": "stream",
     "text": [
      "4\n"
     ]
    }
   ],
   "source": [
    "nums = [1,1,0,1,0,1,1,1,1,0,1,1]\n",
    "n = len(nums)\n",
    "count = 0\n",
    "max_count = 0\n",
    "\n",
    "for i in range (0,n):\n",
    "    if nums[i] == 1:\n",
    "        count+=1\n",
    "    else:\n",
    "        max_count = max(max_count,count)\n",
    "        count = 0\n",
    "print(max(max_count,count))            \n",
    "    "
   ]
  },
  {
   "cell_type": "markdown",
   "id": "3f990f4a",
   "metadata": {},
   "source": [
    "### Two sum Problem (Intermediate)"
   ]
  },
  {
   "cell_type": "code",
   "execution_count": null,
   "id": "7182f5e9",
   "metadata": {},
   "outputs": [
    {
     "name": "stdout",
     "output_type": "stream",
     "text": [
      "1 4\n"
     ]
    }
   ],
   "source": [
    "#Brute solution\n",
    "nums = [5,9,1,2,4,15,6,3]\n",
    "target = 13\n",
    "n = len(nums)\n",
    "\n",
    "for i in range(0,n):\n",
    "    for j in range(i+1,n):\n",
    "        if nums[i] + nums[j] == target: \n",
    "            print(i,j)    "
   ]
  },
  {
   "cell_type": "code",
   "execution_count": 10,
   "id": "7267a157",
   "metadata": {},
   "outputs": [
    {
     "name": "stdout",
     "output_type": "stream",
     "text": [
      "1 4\n"
     ]
    }
   ],
   "source": [
    "#Optimal solution\n",
    "nums = [5,9,1,2,4,15,6,3]\n",
    "target = 13\n",
    "n = len(nums)\n",
    "hash_map = {}\n",
    "for i in range(0,n):\n",
    "    rem = target - nums[i]\n",
    "    if rem in hash_map:\n",
    "        print(hash_map[rem],i)\n",
    "    hash_map[nums[i]] = i    "
   ]
  },
  {
   "cell_type": "markdown",
   "id": "e36335e8",
   "metadata": {},
   "source": [
    "### Find the maximum subarray sum"
   ]
  },
  {
   "cell_type": "code",
   "execution_count": 11,
   "id": "5fa0eac3",
   "metadata": {},
   "outputs": [
    {
     "name": "stdout",
     "output_type": "stream",
     "text": [
      "6\n"
     ]
    }
   ],
   "source": [
    "#Brute solution\n",
    "nums = [-2,1,-3,4,-1,2,1,-5,4]\n",
    "n = len(nums)\n",
    "maxi = float(\"-inf\")\n",
    "for i in range (0,n):\n",
    "    total = 0\n",
    "    for j in range(i,n):\n",
    "        total = total + nums[j]\n",
    "        maxi = max(maxi,total)\n",
    "print(maxi)        "
   ]
  },
  {
   "cell_type": "code",
   "execution_count": 12,
   "id": "78c11b8c",
   "metadata": {},
   "outputs": [
    {
     "name": "stdout",
     "output_type": "stream",
     "text": [
      "6\n"
     ]
    }
   ],
   "source": [
    "#Optimal Solution\n",
    "nums = [-2,1,-3,4,-1,2,1,-5,4]\n",
    "n = len(nums)\n",
    "maxi = float(\"-inf\")\n",
    "total = 0\n",
    "for i in range(0,n):\n",
    "    total = total + nums[i]\n",
    "    maxi = max(maxi,total)\n",
    "    if total < 0:\n",
    "        total = 0\n",
    "print(maxi)        "
   ]
  }
 ],
 "metadata": {
  "kernelspec": {
   "display_name": "Python 3",
   "language": "python",
   "name": "python3"
  },
  "language_info": {
   "codemirror_mode": {
    "name": "ipython",
    "version": 3
   },
   "file_extension": ".py",
   "mimetype": "text/x-python",
   "name": "python",
   "nbconvert_exporter": "python",
   "pygments_lexer": "ipython3",
   "version": "3.11.4"
  }
 },
 "nbformat": 4,
 "nbformat_minor": 5
}
