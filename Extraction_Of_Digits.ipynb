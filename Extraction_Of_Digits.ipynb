{
 "cells": [
  {
   "cell_type": "markdown",
   "id": "09691423",
   "metadata": {},
   "source": [
    "#### Extracting last digits "
   ]
  },
  {
   "cell_type": "code",
   "execution_count": 3,
   "id": "d78de4c7",
   "metadata": {},
   "outputs": [
    {
     "name": "stdout",
     "output_type": "stream",
     "text": [
      "3\n",
      "7\n",
      "8\n",
      "5\n"
     ]
    }
   ],
   "source": [
    "n = 5873\n",
    "num = n\n",
    "while num>0:\n",
    "    last_digit = num%10\n",
    "    print(last_digit)\n",
    "    num = num//10"
   ]
  },
  {
   "cell_type": "markdown",
   "id": "faeea938",
   "metadata": {},
   "source": [
    "#### Count digits"
   ]
  },
  {
   "cell_type": "code",
   "execution_count": 5,
   "id": "ad885b81",
   "metadata": {},
   "outputs": [
    {
     "name": "stdout",
     "output_type": "stream",
     "text": [
      "4\n"
     ]
    }
   ],
   "source": [
    "n = 5873\n",
    "num = n\n",
    "count = 0\n",
    "while num>0:\n",
    "    count+=1\n",
    "    num = num//10\n",
    "print(count)    \n",
    "    \n",
    "    "
   ]
  },
  {
   "cell_type": "code",
   "execution_count": 6,
   "id": "81be451c",
   "metadata": {},
   "outputs": [
    {
     "data": {
      "text/plain": [
       "4"
      ]
     },
     "execution_count": 6,
     "metadata": {},
     "output_type": "execute_result"
    }
   ],
   "source": [
    "#Alternate Method\n",
    "from math import *\n",
    "def countDigits(num):\n",
    "    return (int(log10(num)+1))\n",
    "countDigits(5483)"
   ]
  },
  {
   "cell_type": "markdown",
   "id": "372716f2",
   "metadata": {},
   "source": [
    "#### Count digit"
   ]
  },
  {
   "cell_type": "code",
   "execution_count": 7,
   "id": "c3d36544",
   "metadata": {},
   "outputs": [
    {
     "data": {
      "text/plain": [
       "False"
      ]
     },
     "execution_count": 7,
     "metadata": {},
     "output_type": "execute_result"
    }
   ],
   "source": [
    "# Check if the number is palindrome or not\n",
    "def chcek_palindrome(n):\n",
    "    num = n\n",
    "    result = 0\n",
    "    while num>0:\n",
    "        ld = num%10\n",
    "        result = (result*10)+ld\n",
    "        num = num//10\n",
    "    return n==result\n",
    "chcek_palindrome(1234)    "
   ]
  },
  {
   "cell_type": "markdown",
   "id": "a00a3d4b",
   "metadata": {},
   "source": [
    "#### Armastrong Number\n"
   ]
  },
  {
   "cell_type": "code",
   "execution_count": 14,
   "id": "3f120ea1",
   "metadata": {},
   "outputs": [
    {
     "data": {
      "text/plain": [
       "True"
      ]
     },
     "execution_count": 14,
     "metadata": {},
     "output_type": "execute_result"
    }
   ],
   "source": [
    "def armstrong_number(n):\n",
    "    num = n\n",
    "    total = 0\n",
    "    nod = len(str(n))\n",
    "    while num>0:\n",
    "        ld = num%10\n",
    "        total = total+(ld**nod)\n",
    "        num = num//10\n",
    "    return n==total\n",
    "armstrong_number(153)\n",
    "        \n",
    "    "
   ]
  },
  {
   "cell_type": "markdown",
   "id": "9a580e63",
   "metadata": {},
   "source": [
    "#### Print Factors"
   ]
  },
  {
   "cell_type": "code",
   "execution_count": 15,
   "id": "e5d83f53",
   "metadata": {},
   "outputs": [
    {
     "data": {
      "text/plain": [
       "[1, 2, 4, 5, 10, 20]"
      ]
     },
     "execution_count": 15,
     "metadata": {},
     "output_type": "execute_result"
    }
   ],
   "source": [
    "def factors(n):\n",
    "    num=n\n",
    "    result = []\n",
    "    for i in range(1,num+1):\n",
    "        if num%i == 0:\n",
    "            result.append(i)\n",
    "    return result\n",
    "factors(20)        "
   ]
  },
  {
   "cell_type": "code",
   "execution_count": null,
   "id": "075903a9",
   "metadata": {},
   "outputs": [
    {
     "data": {
      "text/plain": [
       "[1, 2, 4, 5, 10, 20]"
      ]
     },
     "execution_count": 17,
     "metadata": {},
     "output_type": "execute_result"
    }
   ],
   "source": [
    "# Better solution\n",
    "def factors(n):\n",
    "    num = n\n",
    "    result = []\n",
    "    for i in range (1,(num//2)+1):\n",
    "        if num%i == 0:\n",
    "            result.append(i)\n",
    "    result.append(num) \n",
    "    return result \n",
    "factors(20)      \n",
    "            "
   ]
  },
  {
   "cell_type": "code",
   "execution_count": 19,
   "id": "2d4217bd",
   "metadata": {},
   "outputs": [
    {
     "data": {
      "text/plain": [
       "[1, 2, 3, 4, 6, 9, 12, 18, 36]"
      ]
     },
     "execution_count": 19,
     "metadata": {},
     "output_type": "execute_result"
    }
   ],
   "source": [
    "#Optimal solution\n",
    "from math import sqrt\n",
    "def factors(n):\n",
    "    result=[]\n",
    "    for i in range (1,int(sqrt(n)+1)):\n",
    "        if n%i==0:\n",
    "            result.append(i)\n",
    "            if n//i !=i:\n",
    "                result.append(n//i)\n",
    "    result.sort()\n",
    "    return result\n",
    "factors(36)            \n",
    "    "
   ]
  },
  {
   "cell_type": "markdown",
   "id": "3901bacd",
   "metadata": {},
   "source": [
    "Frequency Map"
   ]
  },
  {
   "cell_type": "code",
   "execution_count": 20,
   "id": "5cee3589",
   "metadata": {},
   "outputs": [
    {
     "name": "stdout",
     "output_type": "stream",
     "text": [
      "{5: 2, 6: 1, 7: 2, 1: 5, 9: 1, 111: 1}\n"
     ]
    }
   ],
   "source": [
    "nums = [5,6,7,7,1,9,111,1,1,5,1,1]\n",
    "freq_map = {}\n",
    "for i in range(0,len(nums)):\n",
    "    if nums[i] in freq_map:\n",
    "        freq_map[nums[i]] += 1\n",
    "    else:\n",
    "        freq_map[nums[i]] = 1\n",
    "print(freq_map)            "
   ]
  },
  {
   "cell_type": "code",
   "execution_count": 22,
   "id": "694a43e9",
   "metadata": {},
   "outputs": [
    {
     "name": "stdout",
     "output_type": "stream",
     "text": [
      "{5: 2, 6: 1, 7: 2, 1: 5, 9: 1, 111: 1}\n"
     ]
    }
   ],
   "source": [
    "#method 2\n",
    "nums = [5,6,7,7,1,9,111,1,1,5,1,1]\n",
    "hash_map = {}\n",
    "for i in range(0,len(nums)):\n",
    "    hash_map[nums[i]] = hash_map.get(nums[i],0)+1\n",
    "print(hash_map)    \n"
   ]
  },
  {
   "cell_type": "markdown",
   "id": "0d3dfb30",
   "metadata": {},
   "source": []
  }
 ],
 "metadata": {
  "kernelspec": {
   "display_name": "Python 3",
   "language": "python",
   "name": "python3"
  },
  "language_info": {
   "codemirror_mode": {
    "name": "ipython",
    "version": 3
   },
   "file_extension": ".py",
   "mimetype": "text/x-python",
   "name": "python",
   "nbconvert_exporter": "python",
   "pygments_lexer": "ipython3",
   "version": "3.11.4"
  }
 },
 "nbformat": 4,
 "nbformat_minor": 5
}
