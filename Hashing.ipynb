{
 "cells": [
  {
   "cell_type": "markdown",
   "id": "cd0e484b",
   "metadata": {},
   "source": [
    "Hashing"
   ]
  },
  {
   "cell_type": "code",
   "execution_count": 3,
   "id": "1ab4334d",
   "metadata": {},
   "outputs": [
    {
     "name": "stdout",
     "output_type": "stream",
     "text": [
      "10 appears 1 times\n",
      "111 appears 0 times\n",
      "1 appears 1 times\n",
      "9 appears 0 times\n",
      "5 appears 4 times\n",
      "67 appears 0 times\n",
      "2 appears 2 times\n"
     ]
    }
   ],
   "source": [
    "n = [5,3,2,2,1,5,5,7,5,10]\n",
    "m = [10,111,1,9,5,67,2]\n",
    "for num in m :\n",
    "    count = 0\n",
    "    for x in n:\n",
    "        if x == num:\n",
    "            count+=1\n",
    "    print(num,\"appears\",count,\"times\")            \n",
    "            "
   ]
  }
 ],
 "metadata": {
  "kernelspec": {
   "display_name": "Python 3",
   "language": "python",
   "name": "python3"
  },
  "language_info": {
   "codemirror_mode": {
    "name": "ipython",
    "version": 3
   },
   "file_extension": ".py",
   "mimetype": "text/x-python",
   "name": "python",
   "nbconvert_exporter": "python",
   "pygments_lexer": "ipython3",
   "version": "3.11.4"
  }
 },
 "nbformat": 4,
 "nbformat_minor": 5
}
