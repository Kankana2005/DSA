{
 "cells": [
  {
   "cell_type": "markdown",
   "id": "8768d6a5",
   "metadata": {},
   "source": [
    "# Recusrsion\n"
   ]
  },
  {
   "cell_type": "markdown",
   "id": "e5fef9ac",
   "metadata": {},
   "source": [
    "Print \"hello\" 4 times"
   ]
  },
  {
   "cell_type": "code",
   "execution_count": null,
   "id": "76549630",
   "metadata": {},
   "outputs": [
    {
     "name": "stdout",
     "output_type": "stream",
     "text": [
      "Hello\n",
      "Hello\n",
      "Hello\n",
      "Hello\n"
     ]
    }
   ],
   "source": [
    "#head rescursion\n",
    "def func(count =0):\n",
    "    if count == 4:\n",
    "        return\n",
    "    else:    \n",
    "        print(\"Hello\")\n",
    "        func(count+1)\n",
    "func()        \n",
    "    "
   ]
  },
  {
   "cell_type": "code",
   "execution_count": 12,
   "id": "80577b65-8754-46b9-a27f-9b55a6edd4ec",
   "metadata": {},
   "outputs": [
    {
     "name": "stdout",
     "output_type": "stream",
     "text": [
      "hello\n",
      "hello\n",
      "hello\n",
      "hello\n"
     ]
    }
   ],
   "source": [
    "#tail recusrsiom\n",
    "def func(count=0):\n",
    "    if count ==4:\n",
    "        return\n",
    "    else:\n",
    "        func(count+1)\n",
    "        print(\"hello\")\n",
    "func()        \n",
    "        "
   ]
  },
  {
   "cell_type": "markdown",
   "id": "98fec34d",
   "metadata": {},
   "source": [
    "Print x , N times\n"
   ]
  },
  {
   "cell_type": "code",
   "execution_count": 13,
   "id": "eba5d87c-23a0-4be5-9ad7-616f51a7b78b",
   "metadata": {},
   "outputs": [
    {
     "name": "stdout",
     "output_type": "stream",
     "text": [
      "3\n",
      "3\n",
      "3\n",
      "3\n"
     ]
    }
   ],
   "source": [
    "def func(x,N):\n",
    "    if N==0:\n",
    "        return\n",
    "    print(x)\n",
    "    func(x,N-1)\n",
    "func(3,4)    "
   ]
  },
  {
   "cell_type": "markdown",
   "id": "e2b2b87e",
   "metadata": {},
   "source": [
    "Print 1 to N using recursion"
   ]
  },
  {
   "cell_type": "code",
   "execution_count": null,
   "id": "bd92e866-0056-41be-b0a6-be5b509fc239",
   "metadata": {},
   "outputs": [
    {
     "name": "stdout",
     "output_type": "stream",
     "text": [
      "1\n",
      "2\n",
      "3\n",
      "4\n",
      "5\n",
      "6\n",
      "7\n",
      "8\n",
      "9\n",
      "10\n"
     ]
    }
   ],
   "source": [
    "def func(i,n):\n",
    "    if n==0:\n",
    "        return\n",
    "    print(i)\n",
    "    func(i+1,n-1)\n",
    "func(1,10)\n",
    "    "
   ]
  },
  {
   "cell_type": "code",
   "execution_count": null,
   "id": "fed1e2fd-0590-4e54-833b-020bfcb742cd",
   "metadata": {},
   "outputs": [],
   "source": []
  }
 ],
 "metadata": {
  "kernelspec": {
   "display_name": "Python 3 (ipykernel)",
   "language": "python",
   "name": "python3"
  },
  "language_info": {
   "codemirror_mode": {
    "name": "ipython",
    "version": 3
   },
   "file_extension": ".py",
   "mimetype": "text/x-python",
   "name": "python",
   "nbconvert_exporter": "python",
   "pygments_lexer": "ipython3",
   "version": "3.11.4"
  }
 },
 "nbformat": 4,
 "nbformat_minor": 5
}
