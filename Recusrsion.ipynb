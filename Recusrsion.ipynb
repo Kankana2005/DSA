{
 "cells": [
  {
   "cell_type": "markdown",
   "id": "8768d6a5",
   "metadata": {},
   "source": [
    "# Recusrsion\n"
   ]
  },
  {
   "cell_type": "markdown",
   "id": "e5fef9ac",
   "metadata": {},
   "source": [
    "Print \"hello\" 4 times"
   ]
  },
  {
   "cell_type": "code",
   "execution_count": null,
   "id": "76549630",
   "metadata": {},
   "outputs": [
    {
     "name": "stdout",
     "output_type": "stream",
     "text": [
      "Hello\n",
      "Hello\n",
      "Hello\n",
      "Hello\n"
     ]
    }
   ],
   "source": [
    "#head rescursion\n",
    "def func(count =0):\n",
    "    if count == 4:\n",
    "        return\n",
    "    else:    \n",
    "        print(\"Hello\")\n",
    "        func(count+1)\n",
    "func()        \n",
    "    "
   ]
  },
  {
   "cell_type": "code",
   "execution_count": 12,
   "id": "80577b65-8754-46b9-a27f-9b55a6edd4ec",
   "metadata": {},
   "outputs": [
    {
     "name": "stdout",
     "output_type": "stream",
     "text": [
      "hello\n",
      "hello\n",
      "hello\n",
      "hello\n"
     ]
    }
   ],
   "source": [
    "#tail recusrsiom\n",
    "def func(count=0):\n",
    "    if count ==4:\n",
    "        return\n",
    "    else:\n",
    "        func(count+1)\n",
    "        print(\"hello\")\n",
    "func()        \n",
    "        "
   ]
  },
  {
   "cell_type": "markdown",
   "id": "98fec34d",
   "metadata": {},
   "source": [
    "Print x , N times\n"
   ]
  },
  {
   "cell_type": "code",
   "execution_count": 13,
   "id": "eba5d87c-23a0-4be5-9ad7-616f51a7b78b",
   "metadata": {},
   "outputs": [
    {
     "name": "stdout",
     "output_type": "stream",
     "text": [
      "3\n",
      "3\n",
      "3\n",
      "3\n"
     ]
    }
   ],
   "source": [
    "def func(x,N):\n",
    "    if N==0:\n",
    "        return\n",
    "    print(x)\n",
    "    func(x,N-1)\n",
    "func(3,4)    "
   ]
  },
  {
   "cell_type": "markdown",
   "id": "e2b2b87e",
   "metadata": {},
   "source": [
    "Print 1 to N using recursion"
   ]
  },
  {
   "cell_type": "code",
   "execution_count": null,
   "id": "bd92e866-0056-41be-b0a6-be5b509fc239",
   "metadata": {},
   "outputs": [
    {
     "name": "stdout",
     "output_type": "stream",
     "text": [
      "1\n",
      "2\n",
      "3\n",
      "4\n",
      "5\n",
      "6\n",
      "7\n",
      "8\n",
      "9\n",
      "10\n"
     ]
    }
   ],
   "source": [
    "def func(i,n):\n",
    "    if n==0:\n",
    "        return\n",
    "    print(i)\n",
    "    func(i+1,n-1)\n",
    "func(1,10)\n",
    "    "
   ]
  },
  {
   "cell_type": "markdown",
   "id": "54984b94",
   "metadata": {},
   "source": [
    "print N to 1 using recursion"
   ]
  },
  {
   "cell_type": "code",
   "execution_count": 1,
   "id": "fed1e2fd-0590-4e54-833b-020bfcb742cd",
   "metadata": {},
   "outputs": [
    {
     "name": "stdout",
     "output_type": "stream",
     "text": [
      "4\n",
      "3\n",
      "2\n",
      "1\n"
     ]
    }
   ],
   "source": [
    "#backtracking\n",
    "def func(i,n):\n",
    "    if i>n:\n",
    "        return\n",
    "    func(i+1,n)\n",
    "    print(i)\n",
    "func(1,4)    "
   ]
  },
  {
   "cell_type": "code",
   "execution_count": 2,
   "id": "302f12b1-8463-4865-9858-91d2e1fc6810",
   "metadata": {},
   "outputs": [
    {
     "name": "stdout",
     "output_type": "stream",
     "text": [
      "5\n",
      "4\n",
      "3\n",
      "2\n",
      "1\n"
     ]
    }
   ],
   "source": [
    "# N to 1 (head)\n",
    "def func(n):\n",
    "    if n==0:\n",
    "        return\n",
    "    print(n)\n",
    "    func(n-1)\n",
    "func(5)    "
   ]
  },
  {
   "cell_type": "code",
   "execution_count": 5,
   "id": "347f30cf-1b26-451d-82a9-69ad23c38b04",
   "metadata": {},
   "outputs": [
    {
     "name": "stdout",
     "output_type": "stream",
     "text": [
      "1\n",
      "2\n",
      "3\n",
      "4\n"
     ]
    }
   ],
   "source": [
    "# 1 to N (backtracking)\n",
    "def func(n):\n",
    "    if n==0:\n",
    "        return\n",
    "    func(n-1)\n",
    "    print(n)\n",
    "func(4)    "
   ]
  },
  {
   "cell_type": "markdown",
   "id": "9e3b349e-0903-4e2d-a483-8cde8c5d3f31",
   "metadata": {},
   "source": [
    "### Parameterized and functional recursion\n"
   ]
  },
  {
   "cell_type": "markdown",
   "id": "537e79e1-2fe2-4d58-ba56-d09e904ca841",
   "metadata": {},
   "source": [
    "Sum of 1 to n natural numbers"
   ]
  },
  {
   "cell_type": "code",
   "execution_count": 6,
   "id": "b1c26239-cc42-412b-8f28-53c6c99c1ba0",
   "metadata": {},
   "outputs": [
    {
     "name": "stdout",
     "output_type": "stream",
     "text": [
      "10\n"
     ]
    }
   ],
   "source": [
    "#parameterized\n",
    "def func(sum,i,n):\n",
    "    if i>n:\n",
    "        print(sum)\n",
    "        return\n",
    "    func(sum+i,i+1,n)\n",
    "func(0,1,4)    \n",
    "    "
   ]
  },
  {
   "cell_type": "code",
   "execution_count": 8,
   "id": "81c7c715-4cc0-4233-90f7-71727e3be5e1",
   "metadata": {},
   "outputs": [
    {
     "name": "stdout",
     "output_type": "stream",
     "text": [
      "55\n"
     ]
    }
   ],
   "source": [
    "#Functional recusrssion\n",
    "def func(n):\n",
    "    if n ==1 :\n",
    "        return 1\n",
    "    return(n+func(n-1))\n",
    "print(func(10))    \n"
   ]
  },
  {
   "cell_type": "markdown",
   "id": "6cac1719-9fb2-4c6b-bd4d-a330b76fc578",
   "metadata": {},
   "source": [
    "### Factorial of a number"
   ]
  },
  {
   "cell_type": "code",
   "execution_count": 9,
   "id": "12c55085-1191-467e-b31c-3ca82901ea88",
   "metadata": {},
   "outputs": [
    {
     "name": "stdout",
     "output_type": "stream",
     "text": [
      "24\n"
     ]
    }
   ],
   "source": [
    "#Functional recursion\n",
    "def func(n):\n",
    "    if n==0 or n==1 :\n",
    "        return 1\n",
    "    return n*func(n-1)\n",
    "print(func(4))    \n",
    "    "
   ]
  },
  {
   "cell_type": "markdown",
   "id": "344524bf-8132-4ca2-9a5a-f86dadfb6608",
   "metadata": {},
   "source": [
    "### Reverse an array using recusrsion"
   ]
  },
  {
   "cell_type": "code",
   "execution_count": 5,
   "id": "8dec965e-b0cf-4645-b13d-07e604c71a6a",
   "metadata": {},
   "outputs": [
    {
     "name": "stdout",
     "output_type": "stream",
     "text": [
      "[5, 9, 5, 1, 6, 2, 3, 7]\n"
     ]
    }
   ],
   "source": [
    "\n",
    "def func(nums , left , right):\n",
    "    if left>=right:\n",
    "        return\n",
    "    nums[left],nums[right] = nums[right],nums[left]\n",
    "    func(nums , left+1,right-1)\n",
    "nums = [5,7,3,2,6,1,5,9]\n",
    "func(nums,1,7)\n",
    "print(nums)\n",
    "    \n",
    "    "
   ]
  },
  {
   "cell_type": "code",
   "execution_count": 6,
   "id": "cb5b63d7-f639-4ae9-a07d-2f0b562b2302",
   "metadata": {},
   "outputs": [
    {
     "name": "stdout",
     "output_type": "stream",
     "text": [
      "[5, 7, 1, 6, 2, 3, 5, 9]\n"
     ]
    }
   ],
   "source": [
    "def func(nums , left , right):\n",
    "    if left>=right:\n",
    "        return\n",
    "    nums[left],nums[right] = nums[right],nums[left]\n",
    "    func(nums , left+1,right-1)\n",
    "nums = [5,7,3,2,6,1,5,9]\n",
    "func(nums,2,5)\n",
    "print(nums)\n",
    "        "
   ]
  },
  {
   "cell_type": "markdown",
   "id": "cb94fd31-c908-40c3-86a9-db55fcb9e170",
   "metadata": {},
   "source": [
    "### Reverse an array using while loop\n"
   ]
  },
  {
   "cell_type": "code",
   "execution_count": 1,
   "id": "e25fcf80-a82a-41ec-9cb3-5d1a1420d67e",
   "metadata": {},
   "outputs": [
    {
     "name": "stdout",
     "output_type": "stream",
     "text": [
      "[9, 5, 1, 6, 2, 3, 7, 5]\n"
     ]
    }
   ],
   "source": [
    "num = [5,7,3,2,6,1,5,9]\n",
    "l = 0\n",
    "r = len(num) - 1\n",
    "\n",
    "while l < r:\n",
    "    num[l], num[r] = num[r], num[l]\n",
    "    l += 1\n",
    "    r -= 1\n",
    "\n",
    "print(num)\n"
   ]
  },
  {
   "cell_type": "markdown",
   "id": "e06d588c",
   "metadata": {},
   "source": [
    "### To check if the string is palindrome or not"
   ]
  },
  {
   "cell_type": "code",
   "execution_count": null,
   "id": "ea18b9ce",
   "metadata": {},
   "outputs": [
    {
     "name": "stdout",
     "output_type": "stream",
     "text": [
      "It's a palindrome\n"
     ]
    }
   ],
   "source": [
    "s = \"ANBCDDCBNA\"\n",
    "n = len(s)\n",
    "l = 0\n",
    "r = n - 1\n",
    "is_palindrome = True\n",
    "\n",
    "while l < r:\n",
    "    if s[l] != s[r]:\n",
    "        print(\"Not a palindrome\")\n",
    "        is_palindrome = False\n",
    "        break\n",
    "    l += 1\n",
    "    r -= 1\n",
    "\n",
    "if is_palindrome:\n",
    "    print(\"It's a palindrome\")\n"
   ]
  },
  {
   "cell_type": "code",
   "execution_count": 8,
   "id": "e0af46de",
   "metadata": {},
   "outputs": [
    {
     "data": {
      "text/plain": [
       "True"
      ]
     },
     "execution_count": 8,
     "metadata": {},
     "output_type": "execute_result"
    }
   ],
   "source": [
    "#using recursion\n",
    "def func(s,l,r):\n",
    "    if l>=r:\n",
    "        return True\n",
    "    if s[l]!=s[r]:\n",
    "        return False\n",
    "    return func(s,l+1,r-1)\n",
    "s = \"ANBCDDCBNA\"\n",
    "n = len(s)\n",
    "func(s,0,n-1)\n",
    "\n"
   ]
  },
  {
   "cell_type": "markdown",
   "id": "f0a9990c",
   "metadata": {},
   "source": [
    "### Find the fibonacii number"
   ]
  },
  {
   "cell_type": "code",
   "execution_count": 13,
   "id": "95daa2c0",
   "metadata": {},
   "outputs": [
    {
     "data": {
      "text/plain": [
       "5"
      ]
     },
     "execution_count": 13,
     "metadata": {},
     "output_type": "execute_result"
    }
   ],
   "source": [
    "def fib(n):\n",
    "    if n==0 or n==1:\n",
    "        return n\n",
    "    return fib(n-1)+fib(n-2)\n",
    "fib(5)"
   ]
  }
 ],
 "metadata": {
  "kernelspec": {
   "display_name": "Python 3",
   "language": "python",
   "name": "python3"
  },
  "language_info": {
   "codemirror_mode": {
    "name": "ipython",
    "version": 3
   },
   "file_extension": ".py",
   "mimetype": "text/x-python",
   "name": "python",
   "nbconvert_exporter": "python",
   "pygments_lexer": "ipython3",
   "version": "3.11.4"
  }
 },
 "nbformat": 4,
 "nbformat_minor": 5
}
